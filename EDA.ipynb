{
 "cells": [
  {
   "cell_type": "markdown",
   "metadata": {},
   "source": [
    "# Focus\n",
    "- Analytics maturity (Gartner)\n",
    "- Descriptive Analytics ; What happen?\n",
    "\n",
    "**INFO** :\n",
    "\n",
    "This dataset was generously provided by *Olist*, the largest department store in Brazilian marketplaces.\n",
    "*Olist* connects small businesses from all over Brazil to channels without hassle and with a single contract.\n",
    "Those merchants are able to sell their products through the *Olist* Store and ship them directly to the customers using *Olist* logistics partners.\n",
    "\n",
    "After a customer purchases the product from *Olist* Store a seller gets notified to fulfill that order.\n",
    "Once the customer receives the product, or the estimated delivery date is due, the customer gets a satisfaction survey by email where he can give a note for the purchase experience and write down some comments."
   ]
  },
  {
   "cell_type": "code",
   "execution_count": 2,
   "metadata": {},
   "outputs": [],
   "source": [
    "# !pip install opendatasets"
   ]
  },
  {
   "cell_type": "markdown",
   "metadata": {},
   "source": [
    "## Import libraries"
   ]
  },
  {
   "cell_type": "code",
   "execution_count": 1,
   "metadata": {},
   "outputs": [
    {
     "name": "stdout",
     "output_type": "stream",
     "text": [
      "Pandas version : 2.0.3\n",
      "Numpy version : 1.26.2\n",
      "Mathplotlib version : 3.7.0\n",
      "Seaborn version : 0.12.2\n",
      "Scipy version : 1.10.0\n",
      "OpenDatasets version : 0.1.22\n"
     ]
    }
   ],
   "source": [
    "import numpy as np\n",
    "import pandas as pd\n",
    "import scipy\n",
    "from scipy import stats\n",
    "import os\n",
    "import matplotlib\n",
    "import matplotlib.pyplot as plt\n",
    "import seaborn as sns\n",
    "import opendatasets as od\n",
    "\n",
    "print(f\"Pandas version : {pd.__version__}\")\n",
    "print(f\"Numpy version : {np.__version__}\")\n",
    "print(f\"Mathplotlib version : {matplotlib.__version__}\")\n",
    "print(f\"Seaborn version : {sns.__version__}\")\n",
    "print(f\"Scipy version : {scipy.__version__}\")\n",
    "print(f\"OpenDatasets version : {od.__version__}\")"
   ]
  },
  {
   "cell_type": "markdown",
   "metadata": {},
   "source": [
    "## Import datasets"
   ]
  },
  {
   "cell_type": "code",
   "execution_count": 2,
   "metadata": {},
   "outputs": [
    {
     "name": "stdout",
     "output_type": "stream",
     "text": [
      "Downloading brazilian-ecommerce.zip to d:\\DATA_Science\\GitHub\\Brazil_E-commerce_Analytics\\brazilian-ecommerce\n"
     ]
    },
    {
     "name": "stderr",
     "output_type": "stream",
     "text": [
      "100%|██████████| 42.6M/42.6M [00:24<00:00, 1.79MB/s]\n"
     ]
    },
    {
     "name": "stdout",
     "output_type": "stream",
     "text": [
      "\n"
     ]
    }
   ],
   "source": [
    "current_path = os.getcwd()\n",
    "\n",
    "# ### GET Kaggle username & Key from : https://www.kaggle.com/settings >>> Create API\n",
    "\n",
    "# od.download_kaggle_dataset(dataset_url='https://www.kaggle.com/datasets/olistbr/brazilian-ecommerce/',\n",
    "#                            data_dir=current_path,\n",
    "#                            )\n",
    "\n",
    "data_path = os.path.join(current_path, \"brazilian-ecommerce\")"
   ]
  },
  {
   "cell_type": "code",
   "execution_count": 3,
   "metadata": {},
   "outputs": [],
   "source": [
    "## Main datasets\n",
    "\n",
    "df_item = pd.read_csv(os.path.join(data_path, \"olist_order_items_dataset.csv\"))\n",
    "df_products = pd.read_csv(os.path.join(data_path, \"olist_products_dataset.csv\"))\n",
    "\n",
    "df_orders = pd.read_csv(os.path.join(data_path, \"olist_orders_dataset.csv\"))\n",
    "df_order_pay = pd.read_csv(os.path.join(data_path, \"olist_order_payments_dataset.csv\"))\n",
    "\n",
    "## Detail datasets\n",
    "\n",
    "df_sellers = pd.read_csv(os.path.join(data_path, \"olist_sellers_dataset.csv\"))\n",
    "df_customers = pd.read_csv(os.path.join(data_path, \"olist_customers_dataset.csv\"))\n",
    "\n",
    "df_reviews = pd.read_csv(os.path.join(data_path, \"olist_order_reviews_dataset.csv\"))\n",
    "df_geolocation = pd.read_csv(os.path.join(data_path, \"olist_geolocation_dataset.csv\"))\n",
    "\n",
    "df_category = pd.read_csv(os.path.join(data_path, \"product_category_name_translation.csv\"))"
   ]
  },
  {
   "cell_type": "markdown",
   "metadata": {},
   "source": [
    "### Inspections\n",
    "- look on Main datasets first"
   ]
  },
  {
   "cell_type": "code",
   "execution_count": 4,
   "metadata": {},
   "outputs": [
    {
     "name": "stdout",
     "output_type": "stream",
     "text": [
      "<class 'pandas.core.frame.DataFrame'>\n",
      "RangeIndex: 99441 entries, 0 to 99440\n",
      "Data columns (total 8 columns):\n",
      " #   Column                         Non-Null Count  Dtype \n",
      "---  ------                         --------------  ----- \n",
      " 0   order_id                       99441 non-null  object\n",
      " 1   customer_id                    99441 non-null  object\n",
      " 2   order_status                   99441 non-null  object\n",
      " 3   order_purchase_timestamp       99441 non-null  object\n",
      " 4   order_approved_at              99281 non-null  object\n",
      " 5   order_delivered_carrier_date   97658 non-null  object\n",
      " 6   order_delivered_customer_date  96476 non-null  object\n",
      " 7   order_estimated_delivery_date  99441 non-null  object\n",
      "dtypes: object(8)\n",
      "memory usage: 6.1+ MB\n"
     ]
    },
    {
     "data": {
      "text/plain": [
       "None"
      ]
     },
     "metadata": {},
     "output_type": "display_data"
    },
    {
     "name": "stdout",
     "output_type": "stream",
     "text": [
      "<class 'pandas.core.frame.DataFrame'>\n",
      "RangeIndex: 103886 entries, 0 to 103885\n",
      "Data columns (total 5 columns):\n",
      " #   Column                Non-Null Count   Dtype  \n",
      "---  ------                --------------   -----  \n",
      " 0   order_id              103886 non-null  object \n",
      " 1   payment_sequential    103886 non-null  int64  \n",
      " 2   payment_type          103886 non-null  object \n",
      " 3   payment_installments  103886 non-null  int64  \n",
      " 4   payment_value         103886 non-null  float64\n",
      "dtypes: float64(1), int64(2), object(2)\n",
      "memory usage: 4.0+ MB\n"
     ]
    },
    {
     "data": {
      "text/plain": [
       "None"
      ]
     },
     "metadata": {},
     "output_type": "display_data"
    }
   ],
   "source": [
    "display(df_orders.info())\n",
    "display(df_order_pay.info())"
   ]
  },
  {
   "cell_type": "code",
   "execution_count": 5,
   "metadata": {},
   "outputs": [
    {
     "name": "stdout",
     "output_type": "stream",
     "text": [
      "<class 'pandas.core.frame.DataFrame'>\n",
      "RangeIndex: 112650 entries, 0 to 112649\n",
      "Data columns (total 7 columns):\n",
      " #   Column               Non-Null Count   Dtype  \n",
      "---  ------               --------------   -----  \n",
      " 0   order_id             112650 non-null  object \n",
      " 1   order_item_id        112650 non-null  int64  \n",
      " 2   product_id           112650 non-null  object \n",
      " 3   seller_id            112650 non-null  object \n",
      " 4   shipping_limit_date  112650 non-null  object \n",
      " 5   price                112650 non-null  float64\n",
      " 6   freight_value        112650 non-null  float64\n",
      "dtypes: float64(2), int64(1), object(4)\n",
      "memory usage: 6.0+ MB\n"
     ]
    },
    {
     "data": {
      "text/plain": [
       "None"
      ]
     },
     "metadata": {},
     "output_type": "display_data"
    },
    {
     "name": "stdout",
     "output_type": "stream",
     "text": [
      "<class 'pandas.core.frame.DataFrame'>\n",
      "RangeIndex: 32951 entries, 0 to 32950\n",
      "Data columns (total 9 columns):\n",
      " #   Column                      Non-Null Count  Dtype  \n",
      "---  ------                      --------------  -----  \n",
      " 0   product_id                  32951 non-null  object \n",
      " 1   product_category_name       32341 non-null  object \n",
      " 2   product_name_lenght         32341 non-null  float64\n",
      " 3   product_description_lenght  32341 non-null  float64\n",
      " 4   product_photos_qty          32341 non-null  float64\n",
      " 5   product_weight_g            32949 non-null  float64\n",
      " 6   product_length_cm           32949 non-null  float64\n",
      " 7   product_height_cm           32949 non-null  float64\n",
      " 8   product_width_cm            32949 non-null  float64\n",
      "dtypes: float64(7), object(2)\n",
      "memory usage: 2.3+ MB\n"
     ]
    },
    {
     "data": {
      "text/plain": [
       "None"
      ]
     },
     "metadata": {},
     "output_type": "display_data"
    }
   ],
   "source": [
    "display(df_item.info())\n",
    "display(df_products.info())"
   ]
  },
  {
   "cell_type": "code",
   "execution_count": 6,
   "metadata": {},
   "outputs": [
    {
     "data": {
      "text/plain": [
       "99440"
      ]
     },
     "execution_count": 6,
     "metadata": {},
     "output_type": "execute_result"
    }
   ],
   "source": [
    "len(df_order_pay.order_id.unique())"
   ]
  },
  {
   "cell_type": "code",
   "execution_count": 7,
   "metadata": {},
   "outputs": [
    {
     "name": "stdout",
     "output_type": "stream",
     "text": [
      "<class 'pandas.core.frame.DataFrame'>\n",
      "RangeIndex: 71 entries, 0 to 70\n",
      "Data columns (total 2 columns):\n",
      " #   Column                         Non-Null Count  Dtype \n",
      "---  ------                         --------------  ----- \n",
      " 0   product_category_name          71 non-null     object\n",
      " 1   product_category_name_english  71 non-null     object\n",
      "dtypes: object(2)\n",
      "memory usage: 1.2+ KB\n"
     ]
    }
   ],
   "source": [
    "df_category.info()"
   ]
  },
  {
   "cell_type": "markdown",
   "metadata": {},
   "source": [
    "## Merge dataset"
   ]
  },
  {
   "cell_type": "code",
   "execution_count": 8,
   "metadata": {},
   "outputs": [
    {
     "data": {
      "text/html": [
       "<div>\n",
       "<style scoped>\n",
       "    .dataframe tbody tr th:only-of-type {\n",
       "        vertical-align: middle;\n",
       "    }\n",
       "\n",
       "    .dataframe tbody tr th {\n",
       "        vertical-align: top;\n",
       "    }\n",
       "\n",
       "    .dataframe thead th {\n",
       "        text-align: right;\n",
       "    }\n",
       "</style>\n",
       "<table border=\"1\" class=\"dataframe\">\n",
       "  <thead>\n",
       "    <tr style=\"text-align: right;\">\n",
       "      <th></th>\n",
       "      <th>order_id</th>\n",
       "      <th>order_item_id</th>\n",
       "      <th>product_id</th>\n",
       "      <th>seller_id</th>\n",
       "      <th>shipping_limit_date</th>\n",
       "      <th>price</th>\n",
       "      <th>freight_value</th>\n",
       "      <th>product_category_name</th>\n",
       "      <th>product_name_lenght</th>\n",
       "      <th>product_description_lenght</th>\n",
       "      <th>product_photos_qty</th>\n",
       "      <th>product_weight_g</th>\n",
       "      <th>product_length_cm</th>\n",
       "      <th>product_height_cm</th>\n",
       "      <th>product_width_cm</th>\n",
       "      <th>product_category_name_english</th>\n",
       "    </tr>\n",
       "  </thead>\n",
       "  <tbody>\n",
       "    <tr>\n",
       "      <th>0</th>\n",
       "      <td>00010242fe8c5a6d1ba2dd792cb16214</td>\n",
       "      <td>1</td>\n",
       "      <td>4244733e06e7ecb4970a6e2683c13e61</td>\n",
       "      <td>48436dade18ac8b2bce089ec2a041202</td>\n",
       "      <td>2017-09-19 09:45:35</td>\n",
       "      <td>58.9</td>\n",
       "      <td>13.29</td>\n",
       "      <td>cool_stuff</td>\n",
       "      <td>58.0</td>\n",
       "      <td>598.0</td>\n",
       "      <td>4.0</td>\n",
       "      <td>650.0</td>\n",
       "      <td>28.0</td>\n",
       "      <td>9.0</td>\n",
       "      <td>14.0</td>\n",
       "      <td>cool_stuff</td>\n",
       "    </tr>\n",
       "    <tr>\n",
       "      <th>1</th>\n",
       "      <td>00018f77f2f0320c557190d7a144bdd3</td>\n",
       "      <td>1</td>\n",
       "      <td>e5f2d52b802189ee658865ca93d83a8f</td>\n",
       "      <td>dd7ddc04e1b6c2c614352b383efe2d36</td>\n",
       "      <td>2017-05-03 11:05:13</td>\n",
       "      <td>239.9</td>\n",
       "      <td>19.93</td>\n",
       "      <td>pet_shop</td>\n",
       "      <td>56.0</td>\n",
       "      <td>239.0</td>\n",
       "      <td>2.0</td>\n",
       "      <td>30000.0</td>\n",
       "      <td>50.0</td>\n",
       "      <td>30.0</td>\n",
       "      <td>40.0</td>\n",
       "      <td>pet_shop</td>\n",
       "    </tr>\n",
       "    <tr>\n",
       "      <th>2</th>\n",
       "      <td>000229ec398224ef6ca0657da4fc703e</td>\n",
       "      <td>1</td>\n",
       "      <td>c777355d18b72b67abbeef9df44fd0fd</td>\n",
       "      <td>5b51032eddd242adc84c38acab88f23d</td>\n",
       "      <td>2018-01-18 14:48:30</td>\n",
       "      <td>199.0</td>\n",
       "      <td>17.87</td>\n",
       "      <td>moveis_decoracao</td>\n",
       "      <td>59.0</td>\n",
       "      <td>695.0</td>\n",
       "      <td>2.0</td>\n",
       "      <td>3050.0</td>\n",
       "      <td>33.0</td>\n",
       "      <td>13.0</td>\n",
       "      <td>33.0</td>\n",
       "      <td>furniture_decor</td>\n",
       "    </tr>\n",
       "  </tbody>\n",
       "</table>\n",
       "</div>"
      ],
      "text/plain": [
       "                           order_id  order_item_id  \\\n",
       "0  00010242fe8c5a6d1ba2dd792cb16214              1   \n",
       "1  00018f77f2f0320c557190d7a144bdd3              1   \n",
       "2  000229ec398224ef6ca0657da4fc703e              1   \n",
       "\n",
       "                         product_id                         seller_id  \\\n",
       "0  4244733e06e7ecb4970a6e2683c13e61  48436dade18ac8b2bce089ec2a041202   \n",
       "1  e5f2d52b802189ee658865ca93d83a8f  dd7ddc04e1b6c2c614352b383efe2d36   \n",
       "2  c777355d18b72b67abbeef9df44fd0fd  5b51032eddd242adc84c38acab88f23d   \n",
       "\n",
       "   shipping_limit_date  price  freight_value product_category_name  \\\n",
       "0  2017-09-19 09:45:35   58.9          13.29            cool_stuff   \n",
       "1  2017-05-03 11:05:13  239.9          19.93              pet_shop   \n",
       "2  2018-01-18 14:48:30  199.0          17.87      moveis_decoracao   \n",
       "\n",
       "   product_name_lenght  product_description_lenght  product_photos_qty  \\\n",
       "0                 58.0                       598.0                 4.0   \n",
       "1                 56.0                       239.0                 2.0   \n",
       "2                 59.0                       695.0                 2.0   \n",
       "\n",
       "   product_weight_g  product_length_cm  product_height_cm  product_width_cm  \\\n",
       "0             650.0               28.0                9.0              14.0   \n",
       "1           30000.0               50.0               30.0              40.0   \n",
       "2            3050.0               33.0               13.0              33.0   \n",
       "\n",
       "  product_category_name_english  \n",
       "0                    cool_stuff  \n",
       "1                      pet_shop  \n",
       "2               furniture_decor  "
      ]
     },
     "execution_count": 8,
     "metadata": {},
     "output_type": "execute_result"
    }
   ],
   "source": [
    "### We know that one order can have multiple items, payments, or sellers\n",
    "df_item_pd = pd.merge(left=df_item, right=df_products, left_on='product_id', right_on='product_id', how='left', validate=\"many_to_one\")\n",
    "df_item_pd = pd.merge(left=df_item_pd, right=df_category, left_on='product_category_name', right_on='product_category_name', how='left', validate=\"many_to_one\")\n",
    "\n",
    "### So we separate dataframe from the above\n",
    "df_order_pm = pd.merge(left=df_order_pay, right=df_orders, left_on='order_id', right_on='order_id', how='left', validate=\"many_to_one\")\n",
    "\n",
    "df_item_pd.head(3)"
   ]
  },
  {
   "cell_type": "code",
   "execution_count": 9,
   "metadata": {},
   "outputs": [
    {
     "name": "stdout",
     "output_type": "stream",
     "text": [
      "<class 'pandas.core.frame.DataFrame'>\n",
      "RangeIndex: 112650 entries, 0 to 112649\n",
      "Data columns (total 16 columns):\n",
      " #   Column                         Non-Null Count   Dtype  \n",
      "---  ------                         --------------   -----  \n",
      " 0   order_id                       112650 non-null  object \n",
      " 1   order_item_id                  112650 non-null  int64  \n",
      " 2   product_id                     112650 non-null  object \n",
      " 3   seller_id                      112650 non-null  object \n",
      " 4   shipping_limit_date            112650 non-null  object \n",
      " 5   price                          112650 non-null  float64\n",
      " 6   freight_value                  112650 non-null  float64\n",
      " 7   product_category_name          111047 non-null  object \n",
      " 8   product_name_lenght            111047 non-null  float64\n",
      " 9   product_description_lenght     111047 non-null  float64\n",
      " 10  product_photos_qty             111047 non-null  float64\n",
      " 11  product_weight_g               112632 non-null  float64\n",
      " 12  product_length_cm              112632 non-null  float64\n",
      " 13  product_height_cm              112632 non-null  float64\n",
      " 14  product_width_cm               112632 non-null  float64\n",
      " 15  product_category_name_english  111023 non-null  object \n",
      "dtypes: float64(9), int64(1), object(6)\n",
      "memory usage: 13.8+ MB\n"
     ]
    },
    {
     "data": {
      "text/plain": [
       "None"
      ]
     },
     "metadata": {},
     "output_type": "display_data"
    },
    {
     "name": "stdout",
     "output_type": "stream",
     "text": [
      "<class 'pandas.core.frame.DataFrame'>\n",
      "RangeIndex: 103886 entries, 0 to 103885\n",
      "Data columns (total 12 columns):\n",
      " #   Column                         Non-Null Count   Dtype  \n",
      "---  ------                         --------------   -----  \n",
      " 0   order_id                       103886 non-null  object \n",
      " 1   payment_sequential             103886 non-null  int64  \n",
      " 2   payment_type                   103886 non-null  object \n",
      " 3   payment_installments           103886 non-null  int64  \n",
      " 4   payment_value                  103886 non-null  float64\n",
      " 5   customer_id                    103886 non-null  object \n",
      " 6   order_status                   103886 non-null  object \n",
      " 7   order_purchase_timestamp       103886 non-null  object \n",
      " 8   order_approved_at              103711 non-null  object \n",
      " 9   order_delivered_carrier_date   101998 non-null  object \n",
      " 10  order_delivered_customer_date  100754 non-null  object \n",
      " 11  order_estimated_delivery_date  103886 non-null  object \n",
      "dtypes: float64(1), int64(2), object(9)\n",
      "memory usage: 9.5+ MB\n"
     ]
    },
    {
     "data": {
      "text/plain": [
       "None"
      ]
     },
     "metadata": {},
     "output_type": "display_data"
    }
   ],
   "source": [
    "display(df_item_pd.info())\n",
    "display(df_order_pm.info())"
   ]
  },
  {
   "cell_type": "markdown",
   "metadata": {},
   "source": [
    "## CLEAN"
   ]
  },
  {
   "cell_type": "markdown",
   "metadata": {},
   "source": [
    "### Detect un-normal data\n",
    "- such as string/categories\n",
    "- (outliers are not included)"
   ]
  },
  {
   "cell_type": "code",
   "execution_count": 10,
   "metadata": {},
   "outputs": [
    {
     "data": {
      "text/plain": [
       "array(['portateis_cozinha_e_preparadores_de_alimentos', 'pc_gamer'],\n",
       "      dtype=object)"
      ]
     },
     "execution_count": 10,
     "metadata": {},
     "output_type": "execute_result"
    }
   ],
   "source": [
    "df_item_pd.loc[\n",
    "    (df_item_pd.product_category_name.notnull())\n",
    "    &\n",
    "    (df_item_pd.product_category_name_english.isnull())\n",
    "               ].product_category_name.unique()"
   ]
  },
  {
   "cell_type": "markdown",
   "metadata": {},
   "source": [
    "### Fillna by selected rows\n",
    "- make product_catagory_name_english = product_catagory_name"
   ]
  },
  {
   "cell_type": "code",
   "execution_count": 11,
   "metadata": {},
   "outputs": [
    {
     "name": "stdout",
     "output_type": "stream",
     "text": [
      "<class 'pandas.core.frame.DataFrame'>\n",
      "RangeIndex: 112650 entries, 0 to 112649\n",
      "Data columns (total 16 columns):\n",
      " #   Column                         Non-Null Count   Dtype  \n",
      "---  ------                         --------------   -----  \n",
      " 0   order_id                       112650 non-null  object \n",
      " 1   order_item_id                  112650 non-null  int64  \n",
      " 2   product_id                     112650 non-null  object \n",
      " 3   seller_id                      112650 non-null  object \n",
      " 4   shipping_limit_date            112650 non-null  object \n",
      " 5   price                          112650 non-null  float64\n",
      " 6   freight_value                  112650 non-null  float64\n",
      " 7   product_category_name          111047 non-null  object \n",
      " 8   product_name_lenght            111047 non-null  float64\n",
      " 9   product_description_lenght     111047 non-null  float64\n",
      " 10  product_photos_qty             111047 non-null  float64\n",
      " 11  product_weight_g               112632 non-null  float64\n",
      " 12  product_length_cm              112632 non-null  float64\n",
      " 13  product_height_cm              112632 non-null  float64\n",
      " 14  product_width_cm               112632 non-null  float64\n",
      " 15  product_category_name_english  111047 non-null  object \n",
      "dtypes: float64(9), int64(1), object(6)\n",
      "memory usage: 13.8+ MB\n"
     ]
    }
   ],
   "source": [
    "mask1 = (df_item_pd.product_category_name=='portateis_cozinha_e_preparadores_de_alimentos') & (df_item_pd.product_category_name_english.isnull())\n",
    "mask2 = (df_item_pd.product_category_name=='pc_gamer') & (df_item_pd.product_category_name_english.isnull())\n",
    "\n",
    "df_item_pd.product_category_name_english = df_item_pd.product_category_name_english\\\n",
    "    .mask(mask1, df_item_pd.product_category_name_english\\\n",
    "    .fillna(value='portable kitchen food preparers'))\n",
    "\n",
    "df_item_pd.product_category_name_english = df_item_pd.product_category_name_english\\\n",
    "    .mask(mask2, df_item_pd.product_category_name_english\\\n",
    "    .fillna(value='pc_gamer'))\n",
    "\n",
    "df_item_pd.info()"
   ]
  },
  {
   "cell_type": "markdown",
   "metadata": {},
   "source": [
    "# EDA"
   ]
  },
  {
   "cell_type": "code",
   "execution_count": null,
   "metadata": {},
   "outputs": [],
   "source": []
  }
 ],
 "metadata": {
  "kernelspec": {
   "display_name": "Python 3",
   "language": "python",
   "name": "python3"
  },
  "language_info": {
   "codemirror_mode": {
    "name": "ipython",
    "version": 3
   },
   "file_extension": ".py",
   "mimetype": "text/x-python",
   "name": "python",
   "nbconvert_exporter": "python",
   "pygments_lexer": "ipython3",
   "version": "3.10.9"
  }
 },
 "nbformat": 4,
 "nbformat_minor": 2
}
